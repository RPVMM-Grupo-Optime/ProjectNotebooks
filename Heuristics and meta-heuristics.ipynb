{
 "cells": [
  {
   "cell_type": "code",
   "execution_count": 1,
   "metadata": {
    "id": "30rR4bbj83tT",
    "scrolled": false
   },
   "outputs": [],
   "source": [
    "import copy\n",
    "import matplotlib.pyplot as plt\n",
    "import numpy as np\n",
    "import pandas as pd\n",
    "import random\n",
    "import time"
   ]
  },
  {
   "cell_type": "markdown",
   "metadata": {
    "id": "5COBiVXPSC-F"
   },
   "source": [
    "# Dados"
   ]
  },
  {
   "cell_type": "code",
   "execution_count": 2,
   "metadata": {
    "id": "HVR1QXxNSC-I",
    "scrolled": true
   },
   "outputs": [],
   "source": [
    "planilha = 'Data for capacitated vehicle routing problem.xlsx'\n",
    "\n",
    "# Origem\n",
    "df_origem = pd.read_excel(planilha, sheet_name = 'Origem')\n",
    "origem = df_origem.get(['Latitude', 'Longitude']).values.tolist()[0]\n",
    "# print(origem)\n",
    "\n",
    "# Custos dos caixeiros\n",
    "df_veiculos = pd.read_excel(planilha, sheet_name = 'Veículos')\n",
    "custos_caixeiros = dict(df_veiculos.get(['Placa', 'Custo / Km']).values)\n",
    "custos_caixeiros = {str(c): float(custos_caixeiros[c]) for c in custos_caixeiros}\n",
    "# print(custos_caixeiros)\n",
    "\n",
    "# Volumes dos caixeiros\n",
    "volumes_caixeiros = dict(df_veiculos.get(['Placa', 'Cubagem (m³)']).values)\n",
    "volumes_caixeiros = {str(c): float(volumes_caixeiros[c]) for c in volumes_caixeiros}\n",
    "# print(volumes_caixeiros)\n",
    "\n",
    "# Pesos dos caixeiros\n",
    "pesos_caixeiros = dict(df_veiculos.get(['Placa', 'Lotação (kg)']).values)\n",
    "pesos_caixeiros = {str(c): float(pesos_caixeiros[c]) for c in pesos_caixeiros}\n",
    "# print(pesos_caixeiros)\n",
    "\n",
    "# Pontos de entrega\n",
    "df_pedidos = pd.read_excel(planilha, sheet_name = 'Pedido')\n",
    "entregas = sorted(list(set(df_pedidos.get('Destinatário'))))[:50]\n",
    "pontos = pd.read_excel(planilha, sheet_name = 'Destinatário', \\\n",
    "                       usecols = ['Código', 'Latitude', 'Longitude']).values.tolist()\n",
    "pontos_entregas = [[float(l1), float(l2)] for c, l1, l2 in pontos if c in entregas]\n",
    "# print(pontos_entregas)\n",
    "\n",
    "# Volumes e pesos das entregas\n",
    "df_produtos = pd.read_excel(planilha, sheet_name = 'Produto')\n",
    "\n",
    "volumes_entregas = []\n",
    "pesos_entregas = []\n",
    "for e in entregas:\n",
    "    volume = float(0)\n",
    "    peso = float(0)\n",
    "    for p in df_pedidos.loc[df_pedidos['Destinatário'] == e].values.tolist():\n",
    "        prod = p[1]\n",
    "        quan = float(p[3])\n",
    "        corr = df_produtos.loc[df_produtos['Código'] == prod].values.tolist()\n",
    "        volume += quan * float(corr[0][4])\n",
    "        peso += quan * float(corr[0][3])\n",
    "    volumes_entregas.append(volume)\n",
    "    pesos_entregas.append(peso)"
   ]
  },
  {
   "cell_type": "markdown",
   "metadata": {
    "id": "Emzi4y20SC-N"
   },
   "source": [
    "# Função objetivo\n",
    "\n",
    "O objetivo principal dessa seção é definir a função objetivo do nosso problema.\n",
    "\n",
    "Para começar, vamos definir uma função que, a partir de uma lista de vetores em $\\mathbb R^n$, constrói uma matriz cujas entradas são as distâncias entre os vetores da lista dada."
   ]
  },
  {
   "cell_type": "code",
   "execution_count": null,
   "metadata": {
    "id": "wCyhTx7v86DE",
    "scrolled": false
   },
   "outputs": [],
   "source": [
    "# Dada uma lista de vetores em Rn, essa função retorna uma matriz contendo\n",
    "# as distancias euclidianas entre os vetores da lista.\n",
    "\n",
    "def matriz_distancia(lista_arrays):\n",
    "    n = len(lista_arrays)\n",
    "    matriz = np.zeros((n,n))\n",
    "    for i in range(n):\n",
    "        matriz[i,i] = np.inf\n",
    "        for j in range(i):\n",
    "            matriz[i,j] = np.linalg.norm(np.array(lista_arrays[i]) - np.array(lista_arrays[j]))\n",
    "            matriz[j,i] = matriz[i,j]\n",
    "    return matriz"
   ]
  },
  {
   "cell_type": "markdown",
   "metadata": {
    "id": "bV5wOvbbSC-T"
   },
   "source": [
    "Em seguida, nós vamos definir uma função que, dada uma trajetória (uma lista\n",
    "de vetores em $\\mathbb R^n$) e o custo para um veículo percorrer um quilômetro\n",
    "(um número), retorna o custo total desse veículo percorrer toda a trajetória."
   ]
  },
  {
   "cell_type": "code",
   "execution_count": null,
   "metadata": {
    "id": "Ng-lyi55SC-U",
    "scrolled": false
   },
   "outputs": [],
   "source": [
    "# Dada uma lista de arrays (trajetoria do caixeiro) e um numero (custo do \n",
    "# uso do caixeiro por km), retorna a FO desse caixeiro, ou seja, o custo \n",
    "# total do caixeiro percorrer a trajetoria dada na lista.\n",
    "\n",
    "def fo_caixeiro(lista_arrays, numero):\n",
    "    trajetoria = lista_arrays\n",
    "    distancia = matriz_distancia(trajetoria)\n",
    "    custo_caixeiro = numero\n",
    "    \n",
    "    fo = 0\n",
    "    for i in range(len(trajetoria)-1):\n",
    "        fo += distancia[i][i+1]\n",
    "    fo += distancia[len(trajetoria)-1][0]\n",
    "    fo *= custo_caixeiro\n",
    "    return fo"
   ]
  },
  {
   "cell_type": "markdown",
   "metadata": {
    "id": "SBTBfdhpSC-V"
   },
   "source": [
    "Para terminar essa seção, vamos definir uma função que retorna a FO do nosso problema.\n",
    "As entradas dessa função são: um dicionário de listas de arrays, onde cada entrada\n",
    "representa um caixeiro (string) e a trajetória que ele irá percorrer (lista de vetores\n",
    "em $\\mathbb R^n$); e um dicionário de números, onde cada entrada representa um caixeiro \n",
    "(string) e o custo desse caixeiro percorrer um quilômetro."
   ]
  },
  {
   "cell_type": "code",
   "execution_count": null,
   "metadata": {
    "id": "heX2FypeSC-W",
    "scrolled": false
   },
   "outputs": [],
   "source": [
    "# Dados dois dicionários, um dicionário de listas de arrays (trajetorias de \n",
    "# cada veículo) e um dicionário de números (custos por km de cada veiculo),\n",
    "# retorna a FO, ou seja, a soma dos custos de todos veiculos percorrerem os\n",
    "# pontos das suas respectivas trajetorias.\n",
    "\n",
    "def fo(dicionario_listas_arrays, dicionario_numeros):\n",
    "    trajetorias = dicionario_listas_arrays\n",
    "    custos = dicionario_numeros\n",
    "    \n",
    "    caixeiros = trajetorias.keys()\n",
    "    \n",
    "    fo = 0\n",
    "    for caixeiro in caixeiros:\n",
    "        fo += fo_caixeiro(trajetorias[caixeiro], custos[caixeiro])\n",
    "    return fo"
   ]
  },
  {
   "cell_type": "markdown",
   "metadata": {
    "id": "ypKFxe9oSC-Y"
   },
   "source": [
    "## Algumas funções auxiliares\n",
    "\n",
    "Nessa seção, vamos definir duas funções auxiliares.\n",
    "\n",
    "A primeira ajuda na vizualização dos resultados, plotando as trajetórias de cada caixeiro."
   ]
  },
  {
   "cell_type": "code",
   "execution_count": null,
   "metadata": {
    "id": "HSunQ0vKSC-Z",
    "scrolled": false
   },
   "outputs": [],
   "source": [
    "# Uma função para ajudar na vizualização dos resultados.  Dados um array (um\n",
    "# vetor em Rn, que representa a origem dos caixeiros) e um dicionário de \n",
    "# listas de arrays (que representa as trajetórias dos caixeiros), essa \n",
    "# função plota cada uma dessas trajetorias com uma cor diferente.\n",
    "\n",
    "def ver_rotas(array, dicionario_listas_arrays):\n",
    "    origem = array\n",
    "    caixeiros = dicionario_listas_arrays.keys()\n",
    "    trajetorias = [[*dicionario_listas_arrays[c], origem] for c in caixeiros]\n",
    "        \n",
    "    fig = plt.figure()\n",
    "    axes = fig.add_subplot()\n",
    "    \n",
    "    xmin = min([p[0] for t in trajetorias for p in t])-1\n",
    "    xmax = max([p[0] for t in trajetorias for p in t])+1\n",
    "    ymin = min([p[1] for t in trajetorias for p in t])-1\n",
    "    ymax = max([p[1] for t in trajetorias for p in t])+1\n",
    "    \n",
    "    axes.set(xlim = (xmin, xmax))\n",
    "    axes.set(ylim = (ymin, ymax))\n",
    "    \n",
    "    xdata = [[p[0] for p in t] for t in trajetorias]\n",
    "    ydata = [[p[1] for p in t] for t in trajetorias]\n",
    "    \n",
    "    for i in range(len(trajetorias)):\n",
    "        axes.scatter(xdata[i], ydata[i])\n",
    "        axes.plot(xdata[i], ydata[i])\n",
    "    axes.plot(origem[0], origem[1], 'o', color = 'black')\n",
    "    plt.show()"
   ]
  },
  {
   "cell_type": "markdown",
   "metadata": {
    "id": "4q9SuLc4SC-a"
   },
   "source": [
    "A segunda é uma função que transforma uma lista de números em um dicionário de listas de números.  Ela será usada nas meta-heurísticas."
   ]
  },
  {
   "cell_type": "code",
   "execution_count": null,
   "metadata": {
    "id": "Hy5jhym-SC-b",
    "scrolled": false
   },
   "outputs": [],
   "source": [
    "# As entradas dessa função são: uma lista de arrays (vetores em R2 que \n",
    "# representam todos os pontos de entrega possíveis), uma lista de números\n",
    "# (que representam os dados de cada um desses pontos de entrega - por\n",
    "# exemplo, peso e volume) e um dicionário de lista de arrays (cujas entradas\n",
    "# são caixeiros e as suas respectivas trajetórias).  A saída é um dicionário\n",
    "# de listas de números, que representam os dados (por exemplo, peso ou \n",
    "# volume) relativos a cada ponto de cada trajetória.\n",
    "\n",
    "def lista2dict(lista_arrays, lista_numeros, dicionario_listas_arrays):\n",
    "    pontos_entregas = lista_arrays\n",
    "    dados_entregas = lista_numeros\n",
    "    caixeiros = dicionario_listas_arrays.keys()\n",
    "    trajetorias = dicionario_listas_arrays\n",
    "    \n",
    "    dict_dados = dict()\n",
    "    for c in caixeiros:\n",
    "        dict_dados[c] = [dados_entregas[pontos_entregas.index(p)] if p in pontos_entregas else 0 for p in trajetorias[c]]\n",
    "    return dict_dados"
   ]
  },
  {
   "cell_type": "markdown",
   "metadata": {
    "id": "XxjQv8nQ92Ji"
   },
   "source": [
    "# Heurísticas\n",
    "\n",
    "Nessa seção, vamos definir diversas funções que impementam heurísticas usadas para resolver nosso problema principal."
   ]
  },
  {
   "cell_type": "markdown",
   "metadata": {
    "id": "KnAPE5PLSC-e"
   },
   "source": [
    "## Heurísticas construtivas\n",
    "\n",
    "Para começar, vamos implementar duas heurísticas construtivas.  Essas heurísticas constroem soluções iniciais para o nosso problema, que serão melhoradas depois por outras heurísticas (Christofides-Serdyukov e buscas locais)."
   ]
  },
  {
   "cell_type": "markdown",
   "metadata": {
    "id": "iiWKPd0sSC-e"
   },
   "source": [
    "### Herística construtiva gulosa do vizinho mais próximo"
   ]
  },
  {
   "cell_type": "code",
   "execution_count": null,
   "metadata": {
    "id": "RY5av8ib91Mz",
    "scrolled": false
   },
   "outputs": [],
   "source": [
    "# Essa heurística constrói trajetorias para cada um dos caixeiros de forma\n",
    "# que eles façam a maior quantidade possível de entregas.  As entradas dessa\n",
    "# função são: um array (um vetor de R2 que representa a origem dos\n",
    "# caixeiros), um dicionário de números (custo por km de cada caixeiro), um\n",
    "# segundo dicionário de números (volume total que cada caixeiro consegue \n",
    "# transportar), um terceiro dicionário de números (peso total que cada\n",
    "# caixeiro consegue transportar), uma lista de listas de arrays (que\n",
    "# representa todos os pontos de entregas de produtos - vetores de R2), uma\n",
    "# lista de números (os volumes de cada uma dos pontos de entrega) e uma \n",
    "# segunda lista de números (os pesos de cada um dos pontos de entrega).  A\n",
    "# saída dessa função é um dicionário de listas de arrays, que representa as\n",
    "# trajetórias de cada caixeiro.\n",
    "\n",
    "def construtiva_vizinho(array, dict_nums1, dict_nums2, dict_nums3, lista_vetores, lista_nums1, lista_nums2):\n",
    "    origem = copy.deepcopy(array)\n",
    "    custos_caixeiros = copy.deepcopy(dict_nums1)\n",
    "    volumes_caixeiros = copy.deepcopy(dict_nums2)\n",
    "    pesos_caixeiros = copy.deepcopy(dict_nums3)\n",
    "    pontos_entregas = copy.deepcopy(lista_vetores)\n",
    "    volumes_entregas = copy.deepcopy(lista_nums1)\n",
    "    pesos_entregas = copy.deepcopy(lista_nums2)\n",
    "\n",
    "    trajetorias = dict()\n",
    "    \n",
    "    while len(pontos_entregas) > 0 and len(custos_caixeiros) > 0:\n",
    "        caixeiro = min(custos_caixeiros, key = custos_caixeiros.get)\n",
    "        trajetoria = [origem]\n",
    "        \n",
    "        ponto_atual = origem\n",
    "        volume_atual = volumes_caixeiros[caixeiro]\n",
    "        peso_atual = pesos_caixeiros[caixeiro]\n",
    "        \n",
    "        possiveis_proximos = [(p, v, w) for p in pontos_entregas for v in volumes_entregas for w in pesos_entregas \\\n",
    "                              if v <= volume_atual and w <= peso_atual]\n",
    "        proxima_entrega = ponto_atual\n",
    "        volume_entrega = 0\n",
    "        peso_entrega = 0\n",
    "        if len(possiveis_proximos) > 0:\n",
    "            dis_min = min([np.linalg.norm(np.array(ponto_atual) - np.array(p)) for p in possiveis_proximos[0]])\n",
    "            i = np.argmin([np.linalg.norm(np.array(ponto_atual) - np.array(p)) for p in possiveis_proximos[0]])\n",
    "            proxima_entrega, volume_entrega, peso_entrega = possiveis_proximos[i]\n",
    "\n",
    "        while ponto_atual != proxima_entrega and len(pontos_entregas) > 0:\n",
    "            trajetoria.append(proxima_entrega)\n",
    "            ponto_atual = proxima_entrega\n",
    "            volume_atual -= volume_entrega\n",
    "            peso_atual -= peso_entrega\n",
    "            \n",
    "            i = pontos_entregas.index(ponto_atual)\n",
    "            pontos_entregas.pop(i)\n",
    "            volumes_entregas.pop(i)\n",
    "            pesos_entregas.pop(i)\n",
    "\n",
    "            possiveis_proximos = [(p, v, w) for p in pontos_entregas for v in volumes_entregas for w in pesos_entregas \\\n",
    "                                  if v <= volume_atual and w <= peso_atual]\n",
    "            proxima_entrega = ponto_atual\n",
    "            volume_entrega = 0\n",
    "            peso_entrega = 0\n",
    "            if len(possiveis_proximos) > 0:\n",
    "                dis_min = min([np.linalg.norm(np.array(ponto_atual) - np.array(p)) for p in possiveis_proximos[0]])\n",
    "                i = np.argmin([np.linalg.norm(np.array(ponto_atual) - np.array(p)) for p in possiveis_proximos[0]])\n",
    "                proxima_entrega, volume_entrega, peso_entrega = possiveis_proximos[i]\n",
    "\n",
    "        #Descomentar para que a trajetoria seja um ciclo:\n",
    "        #trajetoria.append(origem)\n",
    "        custos_caixeiros.pop(caixeiro)\n",
    "        volumes_caixeiros.pop(caixeiro)\n",
    "        pesos_caixeiros.pop(caixeiro)\n",
    "        if len(trajetoria) > 1:\n",
    "            trajetorias[caixeiro] = trajetoria\n",
    "        \n",
    "    return trajetorias"
   ]
  },
  {
   "cell_type": "markdown",
   "metadata": {
    "id": "1WS4f_mfSC-g"
   },
   "source": [
    "### Heurística construtiva gulosa aleatória (para o GRASP)"
   ]
  },
  {
   "cell_type": "code",
   "execution_count": null,
   "metadata": {
    "id": "5MzG3O_6SC-g",
    "scrolled": false
   },
   "outputs": [],
   "source": [
    "# Essa heurística constrói trajetorias para cada um dos caixeiros de forma\n",
    "# que eles façam a maior quantidade possível de entregas.  As entradas dessa\n",
    "# função são: um número (que determina o quão aleatória essa heurística será)\n",
    "# um array (um vetor de R2 que representa a origem dos caixeiros), um\n",
    "# dicionário de números (custo por km de cada caixeiro), um segundo\n",
    "# dicionário de números (volume total que cada caixeiro consegue \n",
    "# transportar), um terceiro dicionário de números (peso total que cada\n",
    "# caixeiro consegue transportar), uma lista de listas de arrays (que\n",
    "# representa todos os pontos de entregas de produtos - vetores de R2), uma\n",
    "# lista de números (os volumes de cada uma dos pontos de entrega) e uma \n",
    "# segunda lista de números (os pesos de cada um dos pontos de entrega).  A\n",
    "# saída dessa função é um dicionário de listas de arrays, que representa as\n",
    "# trajetórias de cada caixeiro.\n",
    "\n",
    "\n",
    "def construtiva_aleatoria(numero, array, dict_nums1, dict_nums2, dict_nums3, lista_vetores, lista_nums1, lista_nums2):\n",
    "    alpha = copy.deepcopy(numero)\n",
    "    origem = copy.deepcopy(array)\n",
    "    custos_caixeiros = copy.deepcopy(dict_nums1)\n",
    "    volumes_caixeiros = copy.deepcopy(dict_nums2)\n",
    "    pesos_caixeiros = copy.deepcopy(dict_nums3)\n",
    "    pontos_entregas = copy.deepcopy(lista_vetores)\n",
    "    volumes_entregas = copy.deepcopy(lista_nums1)\n",
    "    pesos_entregas = copy.deepcopy(lista_nums2)\n",
    "\n",
    "    trajetorias = dict()\n",
    "    \n",
    "    while len(pontos_entregas) > 0 and len(custos_caixeiros) > 0:\n",
    "        caixeiro = min(custos_caixeiros, key = custos_caixeiros.get)\n",
    "        trajetoria = [origem]\n",
    "        \n",
    "        ponto_atual = origem\n",
    "        volume_atual = volumes_caixeiros[caixeiro]\n",
    "        peso_atual = pesos_caixeiros[caixeiro]\n",
    "        \n",
    "        proxima_entrega = origem\n",
    "        vetor_distancia = [np.linalg.norm(np.array(ponto_atual) - np.array(p)) for p in pontos_entregas]\n",
    "        delta = min(vetor_distancia) + alpha*(max(vetor_distancia) - min(vetor_distancia))\n",
    "        possiveis_entregas = [(pontos_entregas[i], v, w) \\\n",
    "                              for i in range(len(pontos_entregas)) for v in volumes_entregas for w in pesos_entregas \\\n",
    "                              if v <= volume_atual and w <= peso_atual and vetor_distancia[i] < delta]\n",
    "        if len(possiveis_entregas) > 0:\n",
    "            r = np.random.randint(len(possiveis_entregas))\n",
    "            proxima_entrega = possiveis_entregas[r][0]\n",
    "            volume_entrega = possiveis_entregas[r][1]\n",
    "            peso_entrega = possiveis_entregas[r][2]\n",
    "            \n",
    "        while ponto_atual != proxima_entrega:\n",
    "            trajetoria.append(proxima_entrega)\n",
    "            ponto_atual = proxima_entrega\n",
    "            volume_atual -= volume_entrega\n",
    "            peso_atual -= peso_entrega\n",
    "            \n",
    "            i = pontos_entregas.index(ponto_atual)\n",
    "            pontos_entregas.pop(i)\n",
    "            volumes_entregas.pop(i)\n",
    "            pesos_entregas.pop(i)\n",
    "            \n",
    "            if len(pontos_entregas) > 0:\n",
    "                vetor_distancia = [np.linalg.norm(np.array(ponto_atual) - np.array(p)) for p in pontos_entregas]\n",
    "                delta = min(vetor_distancia) + alpha*(max(vetor_distancia) - min(vetor_distancia))\n",
    "                possiveis_entregas = [(pontos_entregas[i], v, w) for i in range(len(pontos_entregas)) \\\n",
    "                                      for v in volumes_entregas for w in pesos_entregas \\\n",
    "                                      if v <= volume_atual and w <= peso_atual and vetor_distancia[i] < delta]\n",
    "                if len(possiveis_entregas) > 0:\n",
    "                    r = np.random.randint(len(possiveis_entregas))\n",
    "                    proxima_entrega = possiveis_entregas[r][0]\n",
    "                    volume_entrega = possiveis_entregas[r][1]\n",
    "                    peso_entrega = possiveis_entregas[r][2]\n",
    "\n",
    "        #Descomentar para que a trajetoria seja um ciclo:\n",
    "        #trajetoria.append(origem)\n",
    "        custos_caixeiros.pop(caixeiro)\n",
    "        volumes_caixeiros.pop(caixeiro)\n",
    "        pesos_caixeiros.pop(caixeiro)\n",
    "        if len(trajetoria) > 1:\n",
    "            trajetorias[caixeiro] = trajetoria\n",
    "    \n",
    "    return trajetorias"
   ]
  },
  {
   "cell_type": "markdown",
   "metadata": {
    "id": "K11S1rvrSC-h"
   },
   "source": [
    "## Algoritmo de Christofides-Serdyukov\n",
    "\n",
    "O principal objetivo dessa heurística é melhorar o resultado obtido pela heurística construtiva.\n",
    "Como esssa heurística também tem um componente não-determinístico ela será usada somente em \n",
    "conjunto com a heurística construtiva do vizinho mais próximo (que é determinística)."
   ]
  },
  {
   "cell_type": "code",
   "execution_count": null,
   "metadata": {
    "id": "EyEuUCLASC-h",
    "scrolled": true
   },
   "outputs": [],
   "source": [
    "# Copiado de https://github.com/Retsediv/ChristofidesAlgorithm\n",
    "# Para o nosso problema, esse algoritmo não pode ser usado como uma\n",
    "# heurística construtiva por causa das cargas.  Mas nós podemos usá-la como\n",
    "# um primeiro passo para melhorar a solução dada pela heurística construtiva.\n",
    "# Nesse caso, ela precisa ser aplicada na trajetória de cada caixeiro\n",
    "# separadamente.  Além disso, é importante que ela seja aplicada antes das\n",
    "# heurísticas de busca local: por um lado, para que ela não desfaça as\n",
    "# melhorias feitas pelas buscas locais, e por outro lado, para que as buscas\n",
    "# locais sejam capazes de melhorar o resultado dessa heurística.  Observe\n",
    "# que essa heurística não é determinística, então é bom rodá-la várias vezes.\n",
    "\n",
    "def christofides(data):\n",
    "    origem = data[0]\n",
    "    \n",
    "    # build a graph\n",
    "    G = matriz_distancia(data)\n",
    "    #print(\"Graph: \", G)\n",
    "\n",
    "    # build a minimum spanning tree\n",
    "    MSTree = minimum_spanning_tree(G)\n",
    "    #print(\"MSTree: \", MSTree)\n",
    "\n",
    "    # find odd vertexes\n",
    "    odd_vertexes = find_odd_vertexes(MSTree)\n",
    "    #print(\"Odd vertexes in MSTree: \", odd_vertexes)\n",
    "\n",
    "    # add minimum weight matching edges to MST\n",
    "    minimum_weight_matching(MSTree, G, odd_vertexes)\n",
    "    #print(\"Minimum weight matching: \", MSTree)\n",
    "\n",
    "    # find an eulerian tour\n",
    "    eulerian_tour = find_eulerian_tour(MSTree, G)\n",
    "    #print(\"Eulerian tour: \", eulerian_tour)\n",
    "\n",
    "    current = eulerian_tour[0]\n",
    "    path = [data[current]]\n",
    "    visited = [False] * len(eulerian_tour)\n",
    "    visited[eulerian_tour[0]] = True\n",
    "    length = 0\n",
    "\n",
    "    for v in eulerian_tour:\n",
    "        if not visited[v]:\n",
    "            path.append(data[v])\n",
    "            visited[v] = True\n",
    "\n",
    "            length += G[current][v]\n",
    "            current = v\n",
    "\n",
    "    i = path.index(origem)\n",
    "    path = path[i:] + path[:i]\n",
    "    #Descomentar para que as trajetorias sejam ciclos\n",
    "    #length +=G[current][eulerian_tour[0]]\n",
    "    #path.append(data[eulerian_tour[0]])\n",
    "\n",
    "    #print(\"Result path: \", path)\n",
    "    #print(\"Result length of the path: \", length)\n",
    "    return length, path\n",
    "\n",
    "\n",
    "class UnionFind:\n",
    "    def __init__(self):\n",
    "        self.weights = {}\n",
    "        self.parents = {}\n",
    "\n",
    "    def __getitem__(self, object):\n",
    "        if object not in self.parents:\n",
    "            self.parents[object] = object\n",
    "            self.weights[object] = 1\n",
    "            return object\n",
    "\n",
    "        # find path of objects leading to the root\n",
    "        path = [object]\n",
    "        root = self.parents[object]\n",
    "        while root != path[-1]:\n",
    "            path.append(root)\n",
    "            root = self.parents[root]\n",
    "\n",
    "        # compress the path and return\n",
    "        for ancestor in path:\n",
    "            self.parents[ancestor] = root\n",
    "        return root\n",
    "\n",
    "    def __iter__(self):\n",
    "        return iter(self.parents)\n",
    "\n",
    "    def union(self, *objects):\n",
    "        roots = [self[x] for x in objects]\n",
    "        heaviest = max([(self.weights[r], r) for r in roots])[1]\n",
    "        for r in roots:\n",
    "            if r != heaviest:\n",
    "                self.weights[heaviest] += self.weights[r]\n",
    "                self.parents[r] = heaviest\n",
    "\n",
    "\n",
    "def minimum_spanning_tree(G):\n",
    "    tree = []\n",
    "    subtrees = UnionFind()\n",
    "    n = len(G)\n",
    "    for W, u, v in sorted((G[u][v], u, v) for u in range(n) for v in range(u)):\n",
    "        if subtrees[u] != subtrees[v]:\n",
    "            tree.append((u, v, W))\n",
    "            subtrees.union(u, v)\n",
    "\n",
    "    return tree\n",
    "\n",
    "\n",
    "def find_odd_vertexes(MST):\n",
    "    tmp_g = {}\n",
    "    vertexes = []\n",
    "    for edge in MST:\n",
    "        if edge[0] not in tmp_g:\n",
    "            tmp_g[edge[0]] = 0\n",
    "\n",
    "        if edge[1] not in tmp_g:\n",
    "            tmp_g[edge[1]] = 0\n",
    "\n",
    "        tmp_g[edge[0]] += 1\n",
    "        tmp_g[edge[1]] += 1\n",
    "\n",
    "    for vertex in tmp_g:\n",
    "        if tmp_g[vertex] % 2 == 1:\n",
    "            vertexes.append(vertex)\n",
    "\n",
    "    return vertexes\n",
    "\n",
    "\n",
    "def minimum_weight_matching(MST, G, odd_vert):\n",
    "    import random\n",
    "    random.shuffle(odd_vert)\n",
    "\n",
    "    while odd_vert:\n",
    "        v = odd_vert.pop()\n",
    "        length = float(\"inf\")\n",
    "        u = 1\n",
    "        closest = 0\n",
    "        for u in odd_vert:\n",
    "            if v != u and G[v][u] < length:\n",
    "                length = G[v][u]\n",
    "                closest = u\n",
    "\n",
    "        MST.append((v, closest, length))\n",
    "        odd_vert.remove(closest)\n",
    "\n",
    "\n",
    "def find_eulerian_tour(MatchedMSTree, G):\n",
    "    # find neigbours\n",
    "    neighbours = {}\n",
    "    for edge in MatchedMSTree:\n",
    "        if edge[0] not in neighbours:\n",
    "            neighbours[edge[0]] = []\n",
    "\n",
    "        if edge[1] not in neighbours:\n",
    "            neighbours[edge[1]] = []\n",
    "\n",
    "        neighbours[edge[0]].append(edge[1])\n",
    "        neighbours[edge[1]].append(edge[0])\n",
    "\n",
    "    # finds the hamiltonian circuit\n",
    "    start_vertex = MatchedMSTree[0][0]\n",
    "    EP = [neighbours[start_vertex][0]]\n",
    "\n",
    "    while len(MatchedMSTree) > 0:\n",
    "        for i, v in enumerate(EP):\n",
    "            if len(neighbours[v]) > 0:\n",
    "                break\n",
    "\n",
    "        while len(neighbours[v]) > 0:\n",
    "            w = neighbours[v][0]\n",
    "\n",
    "            remove_edge_from_matchedMST(MatchedMSTree, v, w)\n",
    "\n",
    "            del neighbours[v][(neighbours[v].index(w))]\n",
    "            del neighbours[w][(neighbours[w].index(v))]\n",
    "\n",
    "            i += 1\n",
    "            EP.insert(i, w)\n",
    "\n",
    "            v = w\n",
    "\n",
    "    return EP\n",
    "\n",
    "\n",
    "def remove_edge_from_matchedMST(MatchedMST, v1, v2):\n",
    "\n",
    "    for i, item in enumerate(MatchedMST):\n",
    "        if (item[0] == v2 and item[1] == v1) or (item[0] == v1 and item[1] == v2):\n",
    "            del MatchedMST[i]\n",
    "\n",
    "    return MatchedMST"
   ]
  },
  {
   "cell_type": "markdown",
   "metadata": {
    "id": "o1ThATYI9AYB"
   },
   "source": [
    "## Herísticas de busca local"
   ]
  },
  {
   "cell_type": "markdown",
   "metadata": {
    "id": "-77AxR_VSC-j"
   },
   "source": [
    "### Swap inter-rotas\n",
    "\n",
    "Essa heurística realiza modificações em um dicionário de trajetórias de caixeiros \n",
    "com o objetivo de diminuir a FO.  As modificações realizadas são: dados\n",
    "dois caixeiros distintos, trocar um ponto de entrega na rota de um deles\n",
    "por um ponto de entrega na rota do outro (ver figura a seguir).\n",
    "![swap-inter-2.png](attachment:swap-inter-2.png)"
   ]
  },
  {
   "cell_type": "code",
   "execution_count": null,
   "metadata": {
    "id": "6V8xfxVG9MRT",
    "scrolled": false
   },
   "outputs": [],
   "source": [
    "# As entradas dessa função são: um dicionário de números (que representa o \n",
    "# custo por km de cada caixeiro), um segundo dicionário de números (que\n",
    "# representa o volume total que cada caixeiro consegue transportar), um \n",
    "# terceiro dicionário de números (que representa o peso total que cada \n",
    "# caixeiro consegue transportar), um dicionário de listas de arrays (cujas \n",
    "# entradas são os caixeiros e suas respectivas trajetórias), um dicionário\n",
    "# de listas de números (cujas entradas são os caixeiros e os volumes de cada\n",
    "# entrega contida na sua trajetória) e um segundo dicionário de listas de\n",
    "# números (cujas entradas são os caixeiros e os pesos de cada entrega\n",
    "# contida na sua trajetória).  A saída dessa função é um dicionário de\n",
    "# listas de arrays, que representa as trajetórias (possivelmente) \n",
    "# modificadas de cada caixeiro.\n",
    "\n",
    "def swap_inter(dict_num1, dict_num2, dict_num3, dict_listas_array, dict_listas_num1, dict_listas_num2):\n",
    "    custos_caixeiros = copy.deepcopy(dict_num1)\n",
    "    volumes_caixeiros = copy.deepcopy(dict_num2)\n",
    "    pesos_caixeiros = copy.deepcopy(dict_num3)\n",
    "    trajetorias = copy.deepcopy(dict_listas_array)\n",
    "    volumes_entregas = copy.deepcopy(dict_listas_num1)\n",
    "    pesos_entregas = copy.deepcopy(dict_listas_num2)\n",
    "    \n",
    "    fo_min = fo(trajetorias, custos_caixeiros)\n",
    "    \n",
    "    J = trajetorias.keys()\n",
    "    for i in trajetorias.keys():\n",
    "        J = [j for j in J if j != i]\n",
    "        for j in J:\n",
    "            for k in range(1, len(trajetorias[i])):\n",
    "                for l in range(1, len(trajetorias[j])):\n",
    "                    trajetorias[i][k], trajetorias[j][l] = trajetorias[j][l], trajetorias[i][k]\n",
    "                    volumes_entregas[i][k], volumes_entregas[j][l] = volumes_entregas[j][l], volumes_entregas[i][k]\n",
    "                    pesos_entregas[i][k], pesos_entregas[j][l] = pesos_entregas[j][l], pesos_entregas[i][k]\n",
    "                    if ( sum(volumes_entregas[i]) <= volumes_caixeiros[i] and\n",
    "                            sum(volumes_entregas[j]) <= volumes_caixeiros[j] and\n",
    "                            sum(pesos_entregas[i]) <= pesos_caixeiros[i] and\n",
    "                            sum(pesos_entregas[j]) <= pesos_caixeiros[j] and \n",
    "                            fo(trajetorias, custos_caixeiros) < fo_min ):\n",
    "                        fo_min = fo(trajetorias, custos_caixeiros)\n",
    "                    else:\n",
    "                        trajetorias[i][k], trajetorias[j][l] = trajetorias[j][l], trajetorias[i][k]\n",
    "                        volumes_entregas[i][k], volumes_entregas[j][l] = volumes_entregas[j][l], volumes_entregas[i][k]\n",
    "                        pesos_entregas[i][k], pesos_entregas[j][l] = pesos_entregas[j][l], pesos_entregas[i][k]\n",
    "    return trajetorias"
   ]
  },
  {
   "cell_type": "markdown",
   "metadata": {
    "id": "H3mm9D9aSC-k"
   },
   "source": [
    "### 2-opt\n",
    "\n",
    "Essa heurística também realiza modificações em um dicionário de trajetórias de\n",
    "caixeiros com o objetivo de diminuir a FO.  No entanto, as modificações\n",
    "realizadas são: dados dois pontos de entrega na rota de um mesmo caixeiro,\n",
    "inverter a ordem dos pontos da trajetória que estão contidos entre esses dois \n",
    "pontos (ver figura a seguir).\n",
    "![swap-intra.png](attachment:swap-intra.png)"
   ]
  },
  {
   "cell_type": "code",
   "execution_count": null,
   "metadata": {
    "id": "S_aUlrSFSC-l",
    "scrolled": false
   },
   "outputs": [],
   "source": [
    "# Formalmente, as entradas dessa função são as mesmas entradas da função \n",
    "# 'swap inter-rotas'.  No entanto, observe que várias dessas entradas não \n",
    "# serão efetivamente usadas nesta função.  No entanto, para aplicar a função\n",
    "# 'buscas_locais' (abaixo), foi necessário padronizar as entradas de todas\n",
    "# as buscas locais.\n",
    "# As entradas dessa função que são efetivamente usadas são: dict_num1, um\n",
    "# dicionário de números, cujas entradas representa os caixeiros e seus\n",
    "# respectivos custos por km percorrido; e dict_listas_array, um dicionário\n",
    "# de listas de arrays, cujas entradas representam os caixeiros e suas\n",
    "# respectivas trajetórias.  A saída dessa função também é um dicionário de\n",
    "# listas de arrays, cujas entradas representam os caixeiros e suas\n",
    "# respectivas trajetórias (possivelmente modificadas). \n",
    "\n",
    "def dois_opt(dict_num1, dict_num2, dict_num3, dict_listas_array, dict_listas_num1, dict_listas_num2):\n",
    "    trajetorias = copy.deepcopy(dict_listas_array)\n",
    "    caixeiros = trajetorias.keys()\n",
    "\n",
    "    for c in caixeiros:\n",
    "        distancia = matriz_distancia(trajetorias[c])\n",
    "        for i in range(1, len(trajetorias[c])-2):\n",
    "            for j in range(i+1, len(trajetorias[c])):\n",
    "                if distancia[i-1][i] + distancia[j-1][j] > distancia[i-1][j-1] + distancia[i][j]:\n",
    "                    trajetorias[c] = [*trajetorias[c][0:i], *trajetorias[c][i:j][::-1], \\\n",
    "                                      *trajetorias[c][j:len(trajetorias[c])]]\n",
    "    return trajetorias"
   ]
  },
  {
   "cell_type": "markdown",
   "metadata": {
    "id": "NhSKCtlvSC-l"
   },
   "source": [
    "A última função desta subseção combina as buscas locais contidas na lista 'funcoes' em um\n",
    "procedimento que iteradamente busca por soluções cada vez melhores."
   ]
  },
  {
   "cell_type": "code",
   "execution_count": null,
   "metadata": {
    "id": "Zl6p-Sp_SC-l",
    "scrolled": false
   },
   "outputs": [],
   "source": [
    "# As entradas e saídas dessa função são exatamente as mesmas entradas e\n",
    "# saídas de todas as funções de busca local definidas acima.  Para incluir\n",
    "# ou excluir uma busca local desse procedimento, basta incluir ou excluir\n",
    "# o nome da função correspondente no vetor 'funcoes'.\n",
    "\n",
    "\n",
    "funcoes = [dois_opt, swap_inter]\n",
    "\n",
    "def buscas_locais(dict_num1, dict_num2, dict_num3, dict_listas_array, dict_listas_num1, dict_listas_num2):\n",
    "    custos_caixeiros = copy.deepcopy(dict_num1)\n",
    "    volumes_caixeiros = copy.deepcopy(dict_num2)\n",
    "    pesos_caixeiros = copy.deepcopy(dict_num3)\n",
    "    trajetorias = copy.deepcopy(dict_listas_array)\n",
    "    volumes_entregas = copy.deepcopy(dict_listas_num1)\n",
    "    pesos_entregas = copy.deepcopy(dict_listas_num2)\n",
    "    \n",
    "    fo_min = fo(trajetorias, custos_caixeiros)\n",
    "    \n",
    "    i = 0\n",
    "    k = 0\n",
    "    imax = 100\n",
    "    while k in range(len(funcoes)) and i < imax:\n",
    "        f = funcoes[k]\n",
    "        k += 1\n",
    "\n",
    "        trajs = f(custos_caixeiros, volumes_caixeiros, pesos_caixeiros, trajetorias, volumes_entregas, pesos_entregas)\n",
    "        cst = fo(trajs, custos_caixeiros)\n",
    "        while cst < fo_min and i < imax:\n",
    "            trajs = f(custos_caixeiros, volumes_caixeiros, pesos_caixeiros, trajs, volumes_entregas, pesos_entregas)\n",
    "            cst = fo(trajetorias, custos_caixeiros)\n",
    "            i += 1\n",
    "            k = 0\n",
    "\n",
    "        trajetorias = trajs\n",
    "        fo_min = cst\n",
    "        i += 1\n",
    "    \n",
    "    return trajetorias"
   ]
  },
  {
   "cell_type": "markdown",
   "metadata": {
    "id": "xCty3TmjSC-m"
   },
   "source": [
    "# Meta-heurísticas\n",
    "\n",
    "Nessa seção, nós definimos as funções que implementam as meta-heurísticas utilizadas para obter as soluções finais do nosso probema principal."
   ]
  },
  {
   "cell_type": "markdown",
   "metadata": {
    "id": "wxhFJUSy-AC5"
   },
   "source": [
    "## Simulated annealing"
   ]
  },
  {
   "cell_type": "code",
   "execution_count": null,
   "metadata": {
    "id": "eYT6e8Yz9rjS",
    "scrolled": false
   },
   "outputs": [],
   "source": [
    "def simulated_annealing(dict_num1, dict_num2, dict_num3, dict_listas_array, dict_listas_num1, dict_listas_num2):\n",
    "    custos_caixeiros = copy.deepcopy(dict_num1)\n",
    "    volumes_caixeiros = copy.deepcopy(dict_num2)\n",
    "    pesos_caixeiros = copy.deepcopy(dict_num3)\n",
    "    trajetorias = copy.deepcopy(dict_listas_array)\n",
    "    volumes_entregas = copy.deepcopy(dict_listas_num1)\n",
    "    pesos_entregas = copy.deepcopy(dict_listas_num2)\n",
    "    \n",
    "    #t0, tmin, imax, alpha = 2*10**4, 0.01, 2000, 0.99\n",
    "    t0, tmin, imax, alpha = 10**5, 10**(-2), 2000, 0.9\n",
    "\n",
    "    t = t0\n",
    "    i = 0\n",
    "\n",
    "    fo_min = fo(trajetorias, custos_caixeiros)\n",
    "    while t > tmin and i < imax:\n",
    "        trajs = {c : christofides(trajetorias[c])[1] for c in trajetorias.keys()}\n",
    "        trajs = buscas_locais(custos_caixeiros, volumes_caixeiros, pesos_caixeiros, trajs, volumes_entregas,\\\n",
    "                              pesos_entregas)\n",
    "        delta = fo(trajs, custos_caixeiros) - fo_min\n",
    "        if delta < 0 or random.random() < np.exp(-delta/t):\n",
    "            trajetorias = trajs\n",
    "            fo_min = fo(trajetorias, custos_caixeiros)\n",
    "        i += 1\n",
    "        t *= alpha\n",
    "    print(f'FO: {fo(trajetorias, custos_caixeiros):0.2f}')\n",
    "    return trajetorias"
   ]
  },
  {
   "cell_type": "markdown",
   "metadata": {
    "id": "WTbQ4tCZ-ROB"
   },
   "source": [
    "## Variable neighborhood descent (VNS)"
   ]
  },
  {
   "cell_type": "markdown",
   "metadata": {
    "id": "WZozdwgwSC-o"
   },
   "source": [
    "### Com a heurística construtiva aleatória"
   ]
  },
  {
   "cell_type": "code",
   "execution_count": null,
   "metadata": {
    "id": "V1Mt7bKW-Hqs",
    "scrolled": false
   },
   "outputs": [],
   "source": [
    "def vns_gr(array, dict_num1, dict_num2, dict_num3, lista_listas_array, lista_num1, lista_num2):\n",
    "    origem = copy.deepcopy(array)\n",
    "    custos_caixeiros = copy.deepcopy(dict_num1)\n",
    "    volumes_caixeiros = copy.deepcopy(dict_num2)\n",
    "    pesos_caixeiros = copy.deepcopy(dict_num3)\n",
    "    pontos_entregas = copy.deepcopy(lista_listas_array)\n",
    "    volumes_entregas = copy.deepcopy(lista_num1)\n",
    "    pesos_entregas = copy.deepcopy(lista_num2)\n",
    "\n",
    "    alpha = 0.3 # entre 0 e 1: 0 é completamete determinístico e 1 é completamente aleatório\n",
    "    i = 0\n",
    "    imax = 50\n",
    "    fo_min = np.inf\n",
    "    \n",
    "    while i < imax:\n",
    "        trajs = construtiva_aleatoria(alpha, origem, custos_caixeiros, volumes_caixeiros, pesos_caixeiros, pontos_entregas,\\\n",
    "                                      volumes_entregas, pesos_entregas)\n",
    "        vents = lista2dict(pontos_entregas, volumes_entregas, trajs)\n",
    "        pents = lista2dict(pontos_entregas, pesos_entregas, trajs)\n",
    "        trajs = buscas_locais(custos_caixeiros, volumes_caixeiros, pesos_caixeiros, trajs, vents, pents)\n",
    "        if fo(trajs, custos_caixeiros) < fo_min:\n",
    "            trajetorias = trajs\n",
    "            fo_min = fo(trajetorias, custos_caixeiros)\n",
    "            i = 1\n",
    "        else:\n",
    "            i += 1\n",
    "    print(f'FO: {fo(trajetorias, custos_caixeiros):0.2f}')\n",
    "    return trajetorias"
   ]
  },
  {
   "cell_type": "markdown",
   "metadata": {
    "id": "vCZz6OVWSC-p"
   },
   "source": [
    "### Com a heurística construtiva do vizinho mais próximo"
   ]
  },
  {
   "cell_type": "code",
   "execution_count": null,
   "metadata": {
    "id": "t5gQMoJuSC-q",
    "scrolled": false
   },
   "outputs": [],
   "source": [
    "def vns_nn(array, dict_num1, dict_num2, dict_num3, lista_listas_array, lista_num1, lista_num2):\n",
    "    origem = copy.deepcopy(array)\n",
    "    custos_caixeiros = copy.deepcopy(dict_num1)\n",
    "    volumes_caixeiros = copy.deepcopy(dict_num2)\n",
    "    pesos_caixeiros = copy.deepcopy(dict_num3)\n",
    "    pontos_entregas = copy.deepcopy(lista_listas_array)\n",
    "    volumes_entregas = copy.deepcopy(lista_num1)\n",
    "    pesos_entregas = copy.deepcopy(lista_num2)\n",
    "\n",
    "    i = 0\n",
    "    imax = 50\n",
    "    fo_min = np.inf\n",
    "    \n",
    "    while i < imax:\n",
    "        trajs = construtiva_vizinho(origem, custos_caixeiros, volumes_caixeiros, pesos_caixeiros, pontos_entregas,\\\n",
    "                                    volumes_entregas, pesos_entregas)\n",
    "        trajs = {c : christofides(trajs[c])[1] for c in trajs.keys()}\n",
    "        vents = lista2dict(pontos_entregas, volumes_entregas, trajs)\n",
    "        pents = lista2dict(pontos_entregas, pesos_entregas, trajs)\n",
    "        trajs = buscas_locais(custos_caixeiros, volumes_caixeiros, pesos_caixeiros, trajs, vents, pents)\n",
    "        if fo(trajs, custos_caixeiros) < fo_min:\n",
    "            trajetorias = trajs\n",
    "            fo_min = fo(trajetorias, custos_caixeiros)\n",
    "            i = 1\n",
    "        else:\n",
    "            i += 1\n",
    "    print(f'FO: {fo(trajetorias, custos_caixeiros):0.2f}')\n",
    "    return trajetorias"
   ]
  },
  {
   "cell_type": "markdown",
   "metadata": {
    "id": "W-syaDh4-EWB"
   },
   "source": [
    "## Greedy randomized adaptive search procedure (GRASP)"
   ]
  },
  {
   "cell_type": "markdown",
   "metadata": {
    "id": "Uq1h4Io-SC-r"
   },
   "source": [
    "### Com a heurística construtiva aleatória"
   ]
  },
  {
   "cell_type": "code",
   "execution_count": null,
   "metadata": {
    "id": "pwm57P3N-CVY",
    "scrolled": false
   },
   "outputs": [],
   "source": [
    "def grasp(array, dict_num1, dict_num2, dict_num3, lista_vetores, lista_nums1, lista_nums2):\n",
    "    origem = copy.deepcopy(array)\n",
    "    custos_caixeiros = copy.deepcopy(dict_num1)\n",
    "    volumes_caixeiros = copy.deepcopy(dict_num2)\n",
    "    pesos_caixeiros = copy.deepcopy(dict_num3)\n",
    "    pontos_entregas = copy.deepcopy(lista_vetores)\n",
    "    volumes_entregas = copy.deepcopy(lista_nums1)\n",
    "    pesos_entregas = copy.deepcopy(lista_nums2)\n",
    "\n",
    "    imax = 50\n",
    "    alpha = 0.45\n",
    "    fo_min = np.inf\n",
    "\n",
    "    for i in range(imax):\n",
    "        trajs = construtiva_aleatoria(alpha, origem, custos_caixeiros, volumes_caixeiros, pesos_caixeiros, pontos_entregas,\\\n",
    "                                      volumes_entregas, pesos_entregas)\n",
    "        vents = lista2dict(pontos_entregas, volumes_entregas, trajs)\n",
    "        pents = lista2dict(pontos_entregas, pesos_entregas, trajs)\n",
    "        trajs = buscas_locais(custos_caixeiros, volumes_caixeiros, pesos_caixeiros, trajs, vents, pents)\n",
    "        if fo(trajs, custos_caixeiros) < fo_min:\n",
    "            trajetorias = trajs\n",
    "            fo_min = fo(trajetorias, custos_caixeiros)\n",
    "    print(f'FO: {fo(trajetorias, custos_caixeiros):0.2f}')\n",
    "    return trajetorias"
   ]
  },
  {
   "cell_type": "markdown",
   "metadata": {
    "id": "ZUgeuHEuSC-s"
   },
   "source": [
    "### Com a heurística construtiva do vizinho mais próximo"
   ]
  },
  {
   "cell_type": "code",
   "execution_count": null,
   "metadata": {
    "id": "rqwv8g2TSC-s",
    "scrolled": false
   },
   "outputs": [],
   "source": [
    "def grasp_nn(array, dict_num1, dict_num2, dict_num3, lista_vetores_R2, lista_num1, lista_num2):\n",
    "    origem = copy.deepcopy(array)\n",
    "    custos_caixeiros = copy.deepcopy(dict_num1)\n",
    "    volumes_caixeiros = copy.deepcopy(dict_num2)\n",
    "    pesos_caixeiros = copy.deepcopy(dict_num3)\n",
    "    pontos_entregas = copy.deepcopy(lista_vetores_R2)\n",
    "    volumes_entregas = copy.deepcopy(lista_num1)\n",
    "    pesos_entregas = copy.deepcopy(lista_num2)\n",
    "    \n",
    "    imax = 50\n",
    "    alpha = 0.45\n",
    "    fo_min = np.inf\n",
    " \n",
    "    for i in range(imax):\n",
    "        trajs = construtiva_vizinho(origem, custos_caixeiros, volumes_caixeiros, pesos_caixeiros, pontos_entregas,\\\n",
    "                                    volumes_entregas, pesos_entregas)\n",
    "        trajs = {c : christofides(trajs[c])[1] for c in trajs.keys()}\n",
    "        vents = lista2dict(pontos_entregas, volumes_entregas, trajs)\n",
    "        pents = lista2dict(pontos_entregas, pesos_entregas, trajs)\n",
    "        trajs = buscas_locais(custos_caixeiros, volumes_caixeiros, pesos_caixeiros, trajs, vents, pents)\n",
    "        if fo(trajs, custos_caixeiros) < fo_min:\n",
    "            trajetorias = trajs\n",
    "            fo_min = fo(trajetorias, custos_caixeiros)\n",
    "    print(f'FO: {fo(trajetorias, custos_caixeiros):0.2f}')\n",
    "    return trajetorias"
   ]
  },
  {
   "cell_type": "markdown",
   "metadata": {
    "id": "4xGGWHoOSC-t"
   },
   "source": [
    "# Testes e Resultados"
   ]
  },
  {
   "cell_type": "code",
   "execution_count": null,
   "metadata": {
    "id": "vGEHfA_BSC-u",
    "scrolled": false
   },
   "outputs": [],
   "source": [
    "##########  TODOS OS TESTES ESTÃO CONCENTRADOS NESSA CÉLULA  #########\n",
    "\n",
    "\n",
    "# Simulated annealing\n",
    "print('* Simulated annealing *')\n",
    "start = time.time()\n",
    "trajs = construtiva_vizinho(origem, custos_caixeiros, volumes_caixeiros, pesos_caixeiros, pontos_entregas,\\\n",
    "                            volumes_entregas, pesos_entregas)\n",
    "vents = lista2dict(pontos_entregas, volumes_entregas, trajs)\n",
    "pents = lista2dict(pontos_entregas, pesos_entregas, trajs)\n",
    "trajs = simulated_annealing(custos_caixeiros, volumes_caixeiros, pesos_caixeiros, trajs, vents, pents)\n",
    "end = time.time()\n",
    "print(f'Tempo de execução: {end-start:0.3f} segundos')\n",
    "ver_rotas(origem, trajs)\n",
    "\n",
    "\n",
    "# VNS com a heurística construtiva do GRASP\n",
    "start = time.time()\n",
    "print('* VNS / grasp *')\n",
    "trajs = vns_gr(origem, custos_caixeiros, volumes_caixeiros, pesos_caixeiros, pontos_entregas, volumes_entregas,\\\n",
    "               pesos_entregas)\n",
    "end = time.time()\n",
    "#print(f'FO: {fo(trajs, custos_caixeiros):0.3f}')\n",
    "print(f'Tempo de execução: {end-start:0.3f} segundos')\n",
    "ver_rotas(origem, trajs)\n",
    "\n",
    "\n",
    "# VNS com a heurística construtiva do vizinho mais próximo\n",
    "start = time.time()\n",
    "print('* VNS / nn *')\n",
    "trajs = vns_nn(origem, custos_caixeiros, volumes_caixeiros, pesos_caixeiros, pontos_entregas, volumes_entregas,\\\n",
    "               pesos_entregas)\n",
    "end = time.time()\n",
    "#print(f'FO: {fo(trajs, custos_caixeiros):0.3f}')\n",
    "print(f'Tempo de execução: {end-start:0.3f} segundos')\n",
    "ver_rotas(origem, trajs)\n",
    "\n",
    "\n",
    "# GRASP \n",
    "start = time.time()\n",
    "print('* GRASP *')\n",
    "trajs = grasp(origem, custos_caixeiros, volumes_caixeiros, pesos_caixeiros, pontos_entregas, volumes_entregas,\\\n",
    "               pesos_entregas)\n",
    "end = time.time()\n",
    "#print(f'FO: {fo(trajs, custos_caixeiros):0.3f}')\n",
    "print(f'Tempo de execução: {end-start:0.3f} segundos')\n",
    "ver_rotas(origem, trajs)\n",
    "\n",
    "\n",
    "# GRASP com a heurística construtiva do vizinho mais próximo\n",
    "start = time.time()\n",
    "print('* GRASP / nn *')\n",
    "trajs = grasp_nn(origem, custos_caixeiros, volumes_caixeiros, pesos_caixeiros, pontos_entregas, volumes_entregas,\\\n",
    "                 pesos_entregas)\n",
    "end = time.time()\n",
    "#print(f'FO: {fo(trajs, custos_caixeiros):0.3f}')\n",
    "print(f'Tempo de execução: {end-start:0.3f} segundos')\n",
    "ver_rotas(origem, trajs)"
   ]
  }
 ],
 "metadata": {
  "colab": {
   "collapsed_sections": [],
   "provenance": []
  },
  "kernelspec": {
   "display_name": "Python 3 (ipykernel)",
   "language": "python",
   "name": "python3"
  },
  "language_info": {
   "codemirror_mode": {
    "name": "ipython",
    "version": 3
   },
   "file_extension": ".py",
   "mimetype": "text/x-python",
   "name": "python",
   "nbconvert_exporter": "python",
   "pygments_lexer": "ipython3",
   "version": "3.9.13"
  }
 },
 "nbformat": 4,
 "nbformat_minor": 1
}
