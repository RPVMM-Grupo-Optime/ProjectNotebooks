{
 "cells": [
  {
   "cell_type": "code",
   "execution_count": null,
   "id": "7c216818",
   "metadata": {
    "id": "7c216818"
   },
   "outputs": [],
   "source": [
    "import folium\n",
    "import gurobipy as gp\n",
    "from gurobipy import GRB\n",
    "import numpy as np\n",
    "import pandas as pd"
   ]
  },
  {
   "cell_type": "markdown",
   "id": "ea416b84",
   "metadata": {
    "id": "ea416b84"
   },
   "source": [
    "# Dados"
   ]
  },
  {
   "cell_type": "code",
   "execution_count": null,
   "id": "48c7dd1c",
   "metadata": {
    "id": "48c7dd1c"
   },
   "outputs": [],
   "source": [
    "planilha = 'Data for capacitated vehicle routing problem.xlsx'\n",
    "\n",
    "# Origem\n",
    "df_origem = pd.read_excel(planilha, sheet_name = 'Origem')\n",
    "origem = {'ORI-001': df_origem.get(['Latitude', 'Longitude']).values.tolist()[0]}\n",
    "# print(f'Origem: {origem}')\n",
    "\n",
    "# Custos dos caixeiros\n",
    "df_veiculos = pd.read_excel(planilha, sheet_name = 'Veículos')\n",
    "custos_caixeiros = dict(df_veiculos.get(['Placa', 'Custo / Km']).values)\n",
    "custos_caixeiros = {str(c): float(custos_caixeiros[c]) for c in custos_caixeiros}\n",
    "# print(f'Custos dos caixeiros: {custos_caixeiros}')\n",
    "\n",
    "# Volumes dos caixeiros\n",
    "volumes_caixeiros = dict(df_veiculos.get(['Placa', 'Cubagem (m³)']).values)\n",
    "volumes_caixeiros = {str(c): float(volumes_caixeiros[c]) for c in volumes_caixeiros}\n",
    "# print(f'Volumes dos caixeiros: {volumes_caixeiros}'')\n",
    "\n",
    "# Pesos dos caixeiros\n",
    "pesos_caixeiros = dict(df_veiculos.get(['Placa', 'Lotação (kg)']).values)\n",
    "pesos_caixeiros = {str(c): float(pesos_caixeiros[c]) for c in pesos_caixeiros}\n",
    "# print(f'Pesos dos caixeiros: {pesos_caixeiros}')\n",
    "\n",
    "# Pontos de entrega\n",
    "df_pedidos = pd.read_excel(planilha, sheet_name = 'Pedido')\n",
    "entregas = sorted(list(set(df_pedidos.get('Destinatário'))))\n",
    "lista_pontos = pd.read_excel( planilha, sheet_name = 'Destinatário', \\\n",
    "                              usecols = ['Código', 'Latitude', 'Longitude'] ).values.tolist()\n",
    "pontos_entregas = {str(c): [float(l1), float(l2)] for c, l1, l2 in lista_pontos if c in entregas}\n",
    "pontos = {**origem, **pontos_entregas}\n",
    "# print(f'Pontos de entregas: {pontos_entregas}')\n",
    "# print(f'Pontos: {pontos}')\n",
    "\n",
    "# Volumes e pesos das entregas\n",
    "df_produtos = pd.read_excel(planilha, sheet_name = 'Produto')\n",
    "\n",
    "volumes_entregas = {'ORI-001': float(0)}\n",
    "pesos_entregas = {'ORI-001': float(0)}\n",
    "for e in entregas:\n",
    "    volume = float(0)\n",
    "    peso = float(0)\n",
    "    for p in df_pedidos.loc[df_pedidos['Destinatário'] == e].values.tolist():\n",
    "        prod = p[1]\n",
    "        quan = float(p[3])\n",
    "        corr = df_produtos.loc[df_produtos['Código'] == prod].values.tolist()\n",
    "        volume += quan * float(corr[0][4])\n",
    "        peso += quan * float(corr[0][3])\n",
    "    volumes_entregas[e] = volume\n",
    "    pesos_entregas[e] = peso\n",
    "# print(f'Volumes das entregas: {volumes_entregas}')\n",
    "# print(f'Pesos das entregas: {pesos_entregas}')"
   ]
  },
  {
   "cell_type": "markdown",
   "id": "4754742a",
   "metadata": {
    "id": "4754742a"
   },
   "source": [
    "# Uma função auxiliar"
   ]
  },
  {
   "cell_type": "code",
   "execution_count": null,
   "id": "283c33fa",
   "metadata": {
    "id": "283c33fa"
   },
   "outputs": [],
   "source": [
    "# Dados dois labels de pontos de armazenamento ou de entregas, essa função\n",
    "# retorna a distância euclidiana entre os pontos correspondentes.\n",
    "\n",
    "def dist(string1, string2):\n",
    "    v = pontos[string1]\n",
    "    w = pontos[string2]\n",
    "    d = np.linalg.norm(np.array(v) - np.array(w))\n",
    "    return float(d)"
   ]
  },
  {
   "cell_type": "markdown",
   "id": "cd57530f",
   "metadata": {
    "id": "cd57530f"
   },
   "source": [
    "# Variáveis"
   ]
  },
  {
   "cell_type": "code",
   "execution_count": null,
   "id": "75e0e029",
   "metadata": {
    "id": "75e0e029"
   },
   "outputs": [],
   "source": [
    "modelo = gp.Model()\n",
    "\n",
    "# Lista de caixeiros\n",
    "caixeiros = custos_caixeiros.keys()\n",
    "\n",
    "# Variável binária que descreve se o trecho entre dois pontos de entrega é percorrido por dado caixeiro (1) ou não (0)\n",
    "x = modelo.addVars(pontos.keys(), pontos.keys(), caixeiros, vtype = GRB.BINARY, name = 'x')\n",
    "\n",
    "# Variável auxiliar usada para a eliminação de subrotas\n",
    "u = modelo.addVars(pontos.keys(), vtype = GRB.INTEGER, name = 'u')"
   ]
  },
  {
   "cell_type": "markdown",
   "id": "46e591a3",
   "metadata": {
    "id": "46e591a3"
   },
   "source": [
    "# Função objetivo"
   ]
  },
  {
   "cell_type": "code",
   "execution_count": null,
   "id": "02d37e4c",
   "metadata": {
    "id": "02d37e4c"
   },
   "outputs": [],
   "source": [
    "# Objetivo: minimizar o custo total de todas as entregas\n",
    "modelo.setObjective( gp.quicksum(dist(i, j) * custos_caixeiros[c] * x[i, j, c] for i in pontos.keys()\n",
    "                                                                               for j in pontos.keys()\n",
    "                                                                               for c in caixeiros),\n",
    "                     sense = GRB.MINIMIZE )"
   ]
  },
  {
   "cell_type": "markdown",
   "id": "679e6bf6",
   "metadata": {
    "id": "679e6bf6"
   },
   "source": [
    "# Restrições"
   ]
  },
  {
   "cell_type": "code",
   "execution_count": null,
   "id": "37985768",
   "metadata": {
    "id": "37985768"
   },
   "outputs": [],
   "source": [
    "# Restrição: garante que todos os pontos de entrega sejam visitados exatamente uma vez\n",
    "r1 = modelo.addConstrs( gp.quicksum( x[i, j, c] for i in pontos.keys() if i != j for c in caixeiros ) == 1 \n",
    "                        for j in entregas )\n",
    "\n",
    "# Restrição (conservação de fluxo): garante que todo caixeiro que entra em um ponto de entrega também sai \n",
    "r2 = modelo.addConstrs( gp.quicksum( (x[i, l, c] - x[l, i, c]) for i in pontos.keys() if i != l ) == 0\n",
    "                        for l in pontos.keys() for c in caixeiros )\n",
    "\n",
    "# Restrição: garante que a origem esteja presente no máximo umma vez em todos as rotas\n",
    "r3 = modelo.addConstrs( gp.quicksum( x['ORI-001', j, c] for j in pontos.keys() ) == 1\n",
    "                        for c in caixeiros )\n",
    "r4 = modelo.addConstrs( gp.quicksum( x[i, 'ORI-001', c] for i in pontos.keys() ) == 1\n",
    "                        for c in caixeiros )\n",
    "\n",
    "# Restrição (eliminação de subrotas): garante que a rota de cada caixeiro siga a ordem dada pelo vetor u.\n",
    "r5 = modelo.addConstrs( u[i] - u[j] + (len(pontos.keys())+1)*(x[i, j, c] - 1) <= -1 \n",
    "                        for i in pontos.keys()\n",
    "                        for j in entregas if j != i\n",
    "                        for c in caixeiros )\n",
    "\n",
    "# Restrição de empacotamento: o somatório dos volumes das entregas na rota de um caixeiro\n",
    "# deve ser menor que o volume máximo que esse caixeiro é capaz de carregar\n",
    "r6 = modelo.addConstrs(\n",
    "         gp.quicksum( x[i, j, c] * volumes_entregas[j]  for i in entregas for j in pontos.keys() ) <= volumes_caixeiros[c]\n",
    "         for c in caixeiros )\n",
    "\n",
    "# Restrição de empacotamento: o somatório dos pesos das entregas na rota de um caixeiro\n",
    "# deve ser menor que o peso máximo que esse caixeiro é capaz de carregar\n",
    "r7 = modelo.addConstrs(\n",
    "         gp.quicksum( x[i, j, c] * pesos_entregas[j]  for i in entregas for j in pontos.keys() ) <= pesos_caixeiros[c]\n",
    "         for c in caixeiros )"
   ]
  },
  {
   "cell_type": "markdown",
   "id": "80f90737",
   "metadata": {
    "id": "80f90737"
   },
   "source": [
    "# Resultados"
   ]
  },
  {
   "cell_type": "code",
   "execution_count": null,
   "id": "a7edf1ca",
   "metadata": {
    "id": "a7edf1ca",
    "scrolled": false
   },
   "outputs": [],
   "source": [
    "# Resolvendo o problema de otimização\n",
    "\n",
    "modelo.optimize()"
   ]
  },
  {
   "cell_type": "code",
   "execution_count": null,
   "id": "7eed5bdf",
   "metadata": {
    "id": "7eed5bdf"
   },
   "outputs": [],
   "source": [
    "# Construindo as trajetorias de cada caixeiro como um dicionário\n",
    "\n",
    "trajetorias = dict()\n",
    "\n",
    "for c in caixeiros:\n",
    "    print(f'---------\\n{c}:\\n')\n",
    "\n",
    "    trajetoria = ['ORI-001']\n",
    "    i = 'ORI-001'\n",
    "    j = [j for j in pontos.keys() if x[i, j, c].x != 0][0]\n",
    "    trajetoria.append(j)\n",
    "    while j != 'ORI-001':\n",
    "        i = j\n",
    "        j = [j for j in pontos.keys() if x[i, j, c].x != 0][0]\n",
    "        trajetoria.append(j)\n",
    "    trajetorias[c] = trajetoria\n",
    "    print(trajetoria)\n",
    "    \n",
    "# print(trajetorias)"
   ]
  },
  {
   "cell_type": "code",
   "execution_count": null,
   "id": "ed5208ce",
   "metadata": {
    "id": "ed5208ce"
   },
   "outputs": [],
   "source": [
    "# Vizualizando os resultados\n",
    "    \n",
    "\n",
    "colors = ['red', 'blue', 'green', 'purple', 'beige', 'orange', \\\n",
    "          'darkred', 'darkblue', 'darkgreen', 'darkpurple', \\\n",
    "          'lightred', 'lightblue', 'lightgreen', 'lightgray', 'pink', 'cadetblue']\n",
    "\n",
    "mapa = folium.Map(location = origem['ORI-001'], zoom_start = 4)\n",
    "\n",
    "for i, c in enumerate(trajetorias):\n",
    "    cor = colors[i % len(colors)]\n",
    "    traj = [pontos[l] for l in [*trajetorias[c], 'ORI-001']]\n",
    "    for p in traj[1 : -1]:\n",
    "        folium.Marker(p, icon = folium.Icon(color = cor, icon = 'location-dot')).add_to(mapa)\n",
    "    folium.PolyLine(traj, color = cor).add_to(mapa)\n",
    "\n",
    "folium.Marker(traj[0], icon = folium.Icon(color = 'black', icon = 'location-dot')).add_to(mapa)\n",
    "\n",
    "display(mapa)"
   ]
  }
 ],
 "metadata": {
  "colab": {
   "provenance": []
  },
  "kernelspec": {
   "display_name": "Python 3 (ipykernel)",
   "language": "python",
   "name": "python3"
  },
  "language_info": {
   "codemirror_mode": {
    "name": "ipython",
    "version": 3
   },
   "file_extension": ".py",
   "mimetype": "text/x-python",
   "name": "python",
   "nbconvert_exporter": "python",
   "pygments_lexer": "ipython3",
   "version": "3.9.13"
  }
 },
 "nbformat": 4,
 "nbformat_minor": 5
}
